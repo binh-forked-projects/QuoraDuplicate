{
 "cells": [
  {
   "cell_type": "code",
   "execution_count": 1,
   "metadata": {
    "collapsed": true
   },
   "outputs": [],
   "source": [
    "import gensim\n",
    "import pickle\n",
    "model = gensim.models.KeyedVectors.load_word2vec_format('./GoogleNews-vectors-negative300.bin.gz', binary=True)"
   ]
  },
  {
   "cell_type": "code",
   "execution_count": 77,
   "metadata": {},
   "outputs": [],
   "source": [
    "import numpy as np\n",
    "from scipy.spatial.distance import cosine, cityblock, jaccard, canberra, euclidean, minkowski, braycurtis\n",
    "import tqdm\n",
    "\n",
    "def get_sent2vec(df):\n",
    "        \n",
    "    s2v = []\n",
    "    \n",
    "    for row_num, question in enumerate(df.values):\n",
    "\n",
    "        q_words = str(question).lower().split()\n",
    "\n",
    "        M = []\n",
    "        for word in q_words:\n",
    "\n",
    "            try:\n",
    "                M.append(model[word])\n",
    "            except:\n",
    "                continue\n",
    "\n",
    "\n",
    "        if len(M) == 0:\n",
    "            q_s2v = [0 for i in range(0,300)]\n",
    "        else:    \n",
    "            M1 = np.array(M)\n",
    "\n",
    "            v = M1.sum(axis=0)\n",
    "            q_s2v = v/np.sqrt((v ** 2).sum())\n",
    "\n",
    "        s2v.append(q_s2v)\n",
    "\n",
    "    return s2v\n",
    "\n",
    "def get_s2v_features(arr1, arr2):\n",
    "    \n",
    "    return {\n",
    "        \"w2v_cosine\": cosine(arr1, arr2),\n",
    "        \"w2v_cityblock\": cityblock(arr1, arr2),\n",
    "        \"w2v_jacard\": jacard(arr1, arr2),\n",
    "        \"w2v_canberra\": canberra(arr1, arr2),\n",
    "        \"w2v_euclidean\": eucliedean(arr1, arr2),\n",
    "        \"w2v_braycurtis\": braycurtis(arr1, arr2)\n",
    "    }  "
   ]
  },
  {
   "cell_type": "code",
   "execution_count": 19,
   "metadata": {},
   "outputs": [],
   "source": [
    "import pandas as pd\n",
    "df_train = pd.read_csv('./train.csv').fillna(\"\")\n",
    "df_test = pd.read_csv('./test.csv').fillna(\"\")"
   ]
  },
  {
   "cell_type": "code",
   "execution_count": 71,
   "metadata": {},
   "outputs": [],
   "source": [
    "# train_q1_s2v = get_sent2vec(df_train.question1)\n",
    "# with open(\"train_q1_s2v.pickle\", \"wb\") as handle:\n",
    "#     pickle.dump(train_q1_s2v, handle)\n",
    "with open(\"train_q1_s2v.pickle\", \"rb\") as handle:\n",
    "    train_q1_s2v = pickle.load(handle)"
   ]
  },
  {
   "cell_type": "code",
   "execution_count": 76,
   "metadata": {},
   "outputs": [],
   "source": [
    "# train_q2_s2v = get_sent2vec(df_train.question2)\n",
    "# with open(\"train_q2_s2v.pickle\", \"wb\") as handle:\n",
    "#     pickle.dump(train_q2_s2v, handle)\n",
    "with open(\"train_q2_s2v.pickle\", \"rb\") as handle:\n",
    "    train_q2_s2v = pickle.load(handle)"
   ]
  },
  {
   "cell_type": "code",
   "execution_count": 90,
   "metadata": {},
   "outputs": [],
   "source": [
    "train_s2v_features = pd.DataFrame()\n",
    "train_s2v_features['cosine_distance'] = [cosine(x, y) for (x, y) in zip(train_q1_s2v,train_q2_s2v)]\n",
    "train_s2v_features['cityblock_distance'] = [cityblock(x, y) for (x, y) in zip(train_q1_s2v,train_q2_s2v)]\n",
    "train_s2v_features['jaccard_distance'] = [jaccard(x, y) for (x, y) in zip(train_q1_s2v,train_q2_s2v)]\n",
    "train_s2v_features['canberra_distance'] = [canberra(x, y) for (x, y) in zip(train_q1_s2v,train_q2_s2v)]\n",
    "train_s2v_features['euclidean_distance'] = [euclidean(x, y) for (x, y) in zip(train_q1_s2v,train_q2_s2v)]\n",
    "train_s2v_features['minkowski_distance'] = [minkowski(x, y, 3) for (x, y) in zip(train_q1_s2v,train_q2_s2v)]\n",
    "train_s2v_features['braycurtis_distance'] = [braycurtis(x, y) for (x, y) in zip(train_q1_s2v,train_q2_s2v)]\n",
    "\n",
    "# from scipy.stats import skew, kurtosis\n",
    "# train_s2v_features['skew_q1vec'] = [skew(x) for x in train_q1_s2v]\n",
    "# train_s2v_features['skew_q2vec'] = [skew(x) for x in train_q2_s2v]\n",
    "# train_s2v_features['kur_q1vec'] = [kurtosis(x) for x in train_q1_s2v]\n",
    "# train_s2v_features['kur_q2vec'] = [kurtosis(x) for x in train_q2_s2v]\n",
    "\n",
    "train_s2v_features.to_csv(\"train_s2v_features.csv\", index = False)"
   ]
  },
  {
   "cell_type": "code",
   "execution_count": 93,
   "metadata": {},
   "outputs": [],
   "source": [
    "%reset_selective -f train_q1_s2v\n",
    "%reset_selective -f train_q2_s2v\n",
    "%reset_selective -f train_s2v_features"
   ]
  },
  {
   "cell_type": "code",
   "execution_count": null,
   "metadata": {},
   "outputs": [],
   "source": [
    "test_q1_s2v = get_sent2vec(df_test.question1)\n",
    "with open(\"test_q1_s2v.pickle\", \"wb\") as handle:\n",
    "    pickle.dump(test_q1_s2v, handle)\n",
    "# with open(\"test_q1_s2v.pickle\", \"rb\") as handle:\n",
    "#     test_q1_s2v = pickle.load(handle)"
   ]
  },
  {
   "cell_type": "code",
   "execution_count": null,
   "metadata": {
    "collapsed": true
   },
   "outputs": [],
   "source": [
    "test_q2_s2v = get_sent2vec(df_test.question2)\n",
    "with open(\"test_q2_s2v.pickle\", \"wb\") as handle:\n",
    "    pickle.dump(test_q2_s2v, handle)\n",
    "# with open(\"test_q2_s2v.pickle\", \"rb\") as handle:\n",
    "#     test_q2_s2v = pickle.load(handle)"
   ]
  },
  {
   "cell_type": "code",
   "execution_count": null,
   "metadata": {
    "collapsed": true
   },
   "outputs": [],
   "source": [
    "test_s2v_features = pd.DataFrame()\n",
    "test_s2v_features['cosine_distance'] = [cosine(x, y) for (x, y) in zip(test_q1_s2v,test_q2_s2v)]\n",
    "test_s2v_features['cityblock_distance'] = [cityblock(x, y) for (x, y) in zip(test_q1_s2v,test_q2_s2v)]\n",
    "test_s2v_features['jaccard_distance'] = [jaccard(x, y) for (x, y) in zip(test_q1_s2v,test_q2_s2v)]\n",
    "test_s2v_features['canberra_distance'] = [canberra(x, y) for (x, y) in zip(test_q1_s2v,test_q2_s2v)]\n",
    "test_s2v_features['euclidean_distance'] = [euclidean(x, y) for (x, y) in zip(test_q1_s2v,test_q2_s2v)]\n",
    "test_s2v_features['minkowski_distance'] = [minkowski(x, y, 3) for (x, y) in zip(test_q1_s2v,test_q2_s2v)]\n",
    "test_s2v_features['braycurtis_distance'] = [braycurtis(x, y) for (x, y) in zip(test_q1_s2v,test_q2_s2v)]\n",
    "\n",
    "# from scipy.stats import skew, kurtosis\n",
    "# test_s2v_features['skew_q1vec'] = [skew(x) for x in test_q1_s2v]\n",
    "# test_s2v_features['skew_q2vec'] = [skew(x) for x in test_q2_s2v]\n",
    "# test_s2v_features['kur_q1vec'] = [kurtosis(x) for x in test_q1_s2v]\n",
    "# test_s2v_features['kur_q2vec'] = [kurtosis(x) for x in test_q2_s2v]\n",
    "\n",
    "test_s2v_features.to_csv(\"test_s2v_features.csv\", index = False)"
   ]
  },
  {
   "cell_type": "code",
   "execution_count": null,
   "metadata": {
    "collapsed": true
   },
   "outputs": [],
   "source": []
  },
  {
   "cell_type": "code",
   "execution_count": 89,
   "metadata": {},
   "outputs": [],
   "source": []
  }
 ],
 "metadata": {
  "kernelspec": {
   "display_name": "Python 2",
   "language": "python",
   "name": "python2"
  },
  "language_info": {
   "codemirror_mode": {
    "name": "ipython",
    "version": 2
   },
   "file_extension": ".py",
   "mimetype": "text/x-python",
   "name": "python",
   "nbconvert_exporter": "python",
   "pygments_lexer": "ipython2",
   "version": "2.7.12"
  }
 },
 "nbformat": 4,
 "nbformat_minor": 2
}
