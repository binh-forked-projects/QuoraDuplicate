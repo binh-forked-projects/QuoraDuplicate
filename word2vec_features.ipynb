{
 "cells": [
  {
   "cell_type": "code",
   "execution_count": 1,
   "metadata": {
    "collapsed": true
   },
   "outputs": [],
   "source": [
    "import gensim\n",
    "import pickle\n",
    "model = gensim.models.KeyedVectors.load_word2vec_format('./GoogleNews-vectors-negative300.bin.gz', binary=True)"
   ]
  },
  {
   "cell_type": "code",
   "execution_count": 1,
   "metadata": {
    "collapsed": true
   },
   "outputs": [],
   "source": [
    "import numpy as np\n",
    "from scipy.spatial.distance import cosine, cityblock, jaccard, canberra, euclidean, minkowski, braycurtis\n",
    "import tqdm\n",
    "\n",
    "def get_sent2vec(df):\n",
    "        \n",
    "    s2v = []\n",
    "    \n",
    "    for row_num, question in enumerate(df.values):\n",
    "\n",
    "        q_words = str(question).lower().split()\n",
    "\n",
    "        M = []\n",
    "        for word in q_words:\n",
    "\n",
    "            try:\n",
    "                M.append(model[word])\n",
    "            except:\n",
    "                continue\n",
    "\n",
    "\n",
    "        if len(M) == 0:\n",
    "            q_s2v = [0 for i in range(0,300)]\n",
    "        else:    \n",
    "            M1 = np.array(M)\n",
    "\n",
    "            v = M1.sum(axis=0)\n",
    "            q_s2v = v/np.sqrt((v ** 2).sum())\n",
    "\n",
    "        s2v.append(q_s2v)\n",
    "\n",
    "    return s2v\n",
    "\n",
    "def get_s2v_features(arr1, arr2):\n",
    "    \n",
    "    return {\n",
    "        \"w2v_cosine\": cosine(arr1, arr2),\n",
    "        \"w2v_cityblock\": cityblock(arr1, arr2),\n",
    "        \"w2v_jacard\": jacard(arr1, arr2),\n",
    "        \"w2v_canberra\": canberra(arr1, arr2),\n",
    "        \"w2v_euclidean\": eucliedean(arr1, arr2),\n",
    "        \"w2v_braycurtis\": braycurtis(arr1, arr2)\n",
    "    }  "
   ]
  },
  {
   "cell_type": "code",
   "execution_count": 3,
   "metadata": {
    "collapsed": true
   },
   "outputs": [],
   "source": [
    "import pandas as pd\n",
    "df_train = pd.read_csv('./train.csv').fillna(\"\")\n",
    "df_test = pd.read_csv('./test.csv').fillna(\"\")"
   ]
  },
  {
   "cell_type": "code",
   "execution_count": 71,
   "metadata": {
    "collapsed": true
   },
   "outputs": [],
   "source": [
    "# train_q1_s2v = get_sent2vec(df_train.question1)\n",
    "# with open(\"train_q1_s2v.pickle\", \"wb\") as handle:\n",
    "#     pickle.dump(train_q1_s2v, handle)\n",
    "with open(\"train_q1_s2v.pickle\", \"rb\") as handle:\n",
    "    train_q1_s2v = pickle.load(handle)"
   ]
  },
  {
   "cell_type": "code",
   "execution_count": 76,
   "metadata": {
    "collapsed": true
   },
   "outputs": [],
   "source": [
    "# train_q2_s2v = get_sent2vec(df_train.question2)\n",
    "# with open(\"train_q2_s2v.pickle\", \"wb\") as handle:\n",
    "#     pickle.dump(train_q2_s2v, handle)\n",
    "with open(\"train_q2_s2v.pickle\", \"rb\") as handle:\n",
    "    train_q2_s2v = pickle.load(handle)"
   ]
  },
  {
   "cell_type": "code",
   "execution_count": 90,
   "metadata": {
    "collapsed": true
   },
   "outputs": [],
   "source": [
    "train_s2v_features = pd.DataFrame()\n",
    "train_s2v_features['cosine_distance'] = [cosine(x, y) for (x, y) in zip(train_q1_s2v,train_q2_s2v)]\n",
    "train_s2v_features['cityblock_distance'] = [cityblock(x, y) for (x, y) in zip(train_q1_s2v,train_q2_s2v)]\n",
    "train_s2v_features['jaccard_distance'] = [jaccard(x, y) for (x, y) in zip(train_q1_s2v,train_q2_s2v)]\n",
    "train_s2v_features['canberra_distance'] = [canberra(x, y) for (x, y) in zip(train_q1_s2v,train_q2_s2v)]\n",
    "train_s2v_features['euclidean_distance'] = [euclidean(x, y) for (x, y) in zip(train_q1_s2v,train_q2_s2v)]\n",
    "train_s2v_features['minkowski_distance'] = [minkowski(x, y, 3) for (x, y) in zip(train_q1_s2v,train_q2_s2v)]\n",
    "train_s2v_features['braycurtis_distance'] = [braycurtis(x, y) for (x, y) in zip(train_q1_s2v,train_q2_s2v)]\n",
    "\n",
    "# from scipy.stats import skew, kurtosis\n",
    "# train_s2v_features['skew_q1vec'] = [skew(x) for x in train_q1_s2v]\n",
    "# train_s2v_features['skew_q2vec'] = [skew(x) for x in train_q2_s2v]\n",
    "# train_s2v_features['kur_q1vec'] = [kurtosis(x) for x in train_q1_s2v]\n",
    "# train_s2v_features['kur_q2vec'] = [kurtosis(x) for x in train_q2_s2v]\n",
    "\n",
    "train_s2v_features.to_csv(\"train_s2v_features.csv\", index = False)"
   ]
  },
  {
   "cell_type": "code",
   "execution_count": 93,
   "metadata": {
    "collapsed": true
   },
   "outputs": [],
   "source": [
    "%reset_selective -f train_q1_s2v\n",
    "%reset_selective -f train_q2_s2v\n",
    "%reset_selective -f train_s2v_features"
   ]
  },
  {
   "cell_type": "code",
   "execution_count": 4,
   "metadata": {
    "collapsed": true
   },
   "outputs": [],
   "source": [
    "def split_and_get(part_df, part_df_filename):\n",
    "    \n",
    "    test_q1_s2v = get_sent2vec(part_df.question1)\n",
    "    with open(part_df_filename + \"_q1_s2v.pickle\", \"wb\") as handle:\n",
    "        pickle.dump(test_q1_s2v, handle)\n",
    "\n",
    "    test_q2_s2v = get_sent2vec(part_df.question2)\n",
    "    with open(part_df_filename + \"_q2_s2v.pickle\", \"wb\") as handle:\n",
    "        pickle.dump(test_q2_s2v, handle)"
   ]
  },
  {
   "cell_type": "code",
   "execution_count": 5,
   "metadata": {
    "collapsed": true
   },
   "outputs": [],
   "source": [
    "split_and_get(df_test[0:390000], 'test_1')\n",
    "split_and_get(df_test[390000:780000], 'test_2')\n",
    "split_and_get(df_test[780000:1170000], 'test_3')\n",
    "split_and_get(df_test[1170000:1560000], 'test_4')\n",
    "split_and_get(df_test[1560000:1950000], 'test_5')\n",
    "split_and_get(df_test[1950000:], 'test_6')"
   ]
  },
  {
   "cell_type": "code",
   "execution_count": 2,
   "metadata": {
    "collapsed": true
   },
   "outputs": [],
   "source": [
    "import pandas as pd\n",
    "def test_s2v_features(part_df_filename):\n",
    "    \n",
    "    with open(part_df_filen\n",
    "              ame + \"_q1_s2v.pickle\", \"rb\") as handle:\n",
    "        test_q1_s2v = pickle.load(handle)\n",
    "\n",
    "    with open(part_df_filename + \"_q2_s2v.pickle\", \"rb\") as handle:\n",
    "        test_q2_s2v = pickle.load(handle)\n",
    "\n",
    "    test_s2v_features = pd.DataFrame()\n",
    "    test_s2v_features['cosine_distance'] = [cosine(x, y) for (x, y) in zip(test_q1_s2v,test_q2_s2v)]\n",
    "    test_s2v_features['cityblock_distance'] = [cityblock(x, y) for (x, y) in zip(test_q1_s2v,test_q2_s2v)]\n",
    "    test_s2v_features['jaccard_distance'] = [jaccard(x, y) for (x, y) in zip(test_q1_s2v,test_q2_s2v)]\n",
    "    test_s2v_features['canberra_distance'] = [canberra(x, y) for (x, y) in zip(test_q1_s2v,test_q2_s2v)]\n",
    "    test_s2v_features['euclidean_distance'] = [euclidean(x, y) for (x, y) in zip(test_q1_s2v,test_q2_s2v)]\n",
    "    test_s2v_features['minkowski_distance'] = [minkowski(x, y, 3) for (x, y) in zip(test_q1_s2v,test_q2_s2v)]\n",
    "    test_s2v_features['braycurtis_distance'] = [braycurtis(x, y) for (x, y) in zip(test_q1_s2v,test_q2_s2v)]\n",
    "\n",
    "    # from scipy.stats import skew, kurtosis\n",
    "    # test_s2v_features['skew_q1vec'] = [skew(x) for x in test_q1_s2v]\n",
    "    # test_s2v_features['skew_q2vec'] = [skew(x) for x in test_q2_s2v]\n",
    "    # test_s2v_features['kur_q1vec'] = [kurtosis(x) for x in test_q1_s2v]\n",
    "    # test_s2v_features['kur_q2vec'] = [kurtosis(x) for x in test_q2_s2v]\n",
    "\n",
    "    test_s2v_features.to_csv(part_df_filename + \"_s2v_features.csv\", index = False)"
   ]
  },
  {
   "cell_type": "code",
   "execution_count": 3,
   "metadata": {},
   "outputs": [
    {
     "name": "stdout",
     "output_type": "stream",
     "text": [
      "hi\n"
     ]
    },
    {
     "name": "stderr",
     "output_type": "stream",
     "text": [
      "/usr/local/lib/python2.7/dist-packages/scipy/spatial/distance.py:326: RuntimeWarning: invalid value encountered in double_scalars\n",
      "  dist = 1.0 - np.dot(u, v) / (norm(u) * norm(v))\n",
      "/usr/local/lib/python2.7/dist-packages/scipy/spatial/distance.py:326: RuntimeWarning: invalid value encountered in true_divide\n",
      "  dist = 1.0 - np.dot(u, v) / (norm(u) * norm(v))\n",
      "/usr/local/lib/python2.7/dist-packages/scipy/spatial/distance.py:437: RuntimeWarning: invalid value encountered in double_scalars\n",
      "  / np.double(np.bitwise_or(u != 0, v != 0).sum()))\n",
      "/usr/local/lib/python2.7/dist-packages/scipy/spatial/distance.py:631: RuntimeWarning: invalid value encountered in double_scalars\n",
      "  return abs(u - v).sum() / abs(u + v).sum()\n"
     ]
    }
   ],
   "source": [
    "import pickle\n",
    "test_s2v_features('test_1')\n",
    "test_s2v_features('test_2')\n",
    "test_s2v_features('test_3')\n",
    "test_s2v_features('test_4')\n",
    "test_s2v_features('test_5')\n",
    "test_s2v_features('test_6')"
   ]
  },
  {
   "cell_type": "code",
   "execution_count": 5,
   "metadata": {},
   "outputs": [],
   "source": [
    "test_1_s2v_features = pd.read_csv(\"test_1_s2v_features.csv\")\n",
    "test_2_s2v_features = pd.read_csv(\"test_2_s2v_features.csv\")\n",
    "test_3_s2v_features = pd.read_csv(\"test_3_s2v_features.csv\")\n",
    "test_4_s2v_features = pd.read_csv(\"test_4_s2v_features.csv\")\n",
    "test_5_s2v_features = pd.read_csv(\"test_5_s2v_features.csv\")\n",
    "test_6_s2v_features = pd.read_csv(\"test_6_s2v_features.csv\")\n",
    "\n",
    "test_s2v_features = pd.concat([test_1_s2v_features, test_2_s2v_features, test_3_s2v_features, test_4_s2v_features, test_5_s2v_features, test_6_s2v_features])\n",
    "\n",
    "test_s2v_features.to_csv(\"test_s2v_features.csv\", index = False)"
   ]
  }
 ],
 "metadata": {
  "kernelspec": {
   "display_name": "Python 2",
   "language": "python",
   "name": "python2"
  },
  "language_info": {
   "codemirror_mode": {
    "name": "ipython",
    "version": 2
   },
   "file_extension": ".py",
   "mimetype": "text/x-python",
   "name": "python",
   "nbconvert_exporter": "python",
   "pygments_lexer": "ipython2",
   "version": "2.7.12"
  }
 },
 "nbformat": 4,
 "nbformat_minor": 2
}
